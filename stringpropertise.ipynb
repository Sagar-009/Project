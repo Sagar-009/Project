{
 "cells": [
  {
   "cell_type": "code",
   "execution_count": 1,
   "metadata": {},
   "outputs": [
    {
     "name": "stdout",
     "output_type": "stream",
     "text": [
      "Sagar\n"
     ]
    }
   ],
   "source": [
    "# Capitalize\n",
    "#  converts the first character in upper case\n",
    "\n",
    "s = 'sagar'\n",
    "print(s.capitalize())"
   ]
  },
  {
   "cell_type": "code",
   "execution_count": 3,
   "metadata": {},
   "outputs": [
    {
     "name": "stdout",
     "output_type": "stream",
     "text": [
      "29 is my age\n"
     ]
    }
   ],
   "source": [
    "s = \"29 is my age\"\n",
    "print(s.capitalize())"
   ]
  },
  {
   "cell_type": "code",
   "execution_count": 2,
   "metadata": {},
   "outputs": [
    {
     "name": "stdout",
     "output_type": "stream",
     "text": [
      "sagar\n"
     ]
    }
   ],
   "source": [
    "# Casefold\n",
    "# Convert string into lower case\n",
    "\n",
    "s = \"Sagar\"\n",
    "print(s.casefold())"
   ]
  },
  {
   "cell_type": "code",
   "execution_count": 9,
   "metadata": {},
   "outputs": [
    {
     "name": "stdout",
     "output_type": "stream",
     "text": [
      "#sagar#\n"
     ]
    }
   ],
   "source": [
    "# center\n",
    "# Returns a center string\n",
    "# length\tRequired. The length of the returned string\n",
    "# character\tOptional. The character to fill the missing space on each side. Default is \" \" (space)\n",
    "\n",
    "s = \"sagar\"\n",
    "print(s.center(7,\"#\"))"
   ]
  },
  {
   "cell_type": "code",
   "execution_count": 15,
   "metadata": {},
   "outputs": [
    {
     "name": "stdout",
     "output_type": "stream",
     "text": [
      "1\n"
     ]
    }
   ],
   "source": [
    "# Count()\n",
    "# Returns the number of times specified value occurs in string\n",
    "# value\tRequired. A String. The string to value to search for\n",
    "# start\tOptional. An Integer. The position to start the search. Default is 0\n",
    "# end\tOptional. An Integer. The position to end the search. Default is the end of the string\n",
    "\n",
    "s = \"java is easy, python is hard\"\n",
    "print(s.count(\"a\",4,25))"
   ]
  },
  {
   "cell_type": "code",
   "execution_count": 16,
   "metadata": {},
   "outputs": [
    {
     "name": "stdout",
     "output_type": "stream",
     "text": [
      "b'My name is St\\xc3\\xa5le'\n"
     ]
    }
   ],
   "source": [
    "# encode\n",
    "# returns the encoded version of string\n",
    "\n",
    "txt = \"My name is Ståle\"\n",
    "print(txt.encode())"
   ]
  },
  {
   "attachments": {},
   "cell_type": "markdown",
   "metadata": {},
   "source": [
    "encoding\tOptional. A String specifying the encoding to use. Default is UTF-8\n",
    "errors\tOptional. A String specifying the error method. Legal values are:\n",
    "        'backslashreplace'\t- uses a backslash instead of the character that could not be encoded\n",
    "        'ignore'\t- ignores the characters that cannot be encoded\n",
    "        'namereplace'\t- replaces the character with a text explaining the character\n",
    "        'strict'\t- Default, raises an error on failure\n",
    "        'replace'\t- replaces the character with a questionmark\n",
    "        'xmlcharrefreplace'\t- replaces the character with an xml character"
   ]
  },
  {
   "cell_type": "code",
   "execution_count": 18,
   "metadata": {},
   "outputs": [
    {
     "name": "stdout",
     "output_type": "stream",
     "text": [
      "b'My name is St\\xc3\\xa5le'\n",
      "b'My name is St\\\\xe5le'\n",
      "b'My name is Stle'\n",
      "b'My name is St\\\\N{LATIN SMALL LETTER A WITH RING ABOVE}le'\n",
      "b'My name is St?le'\n",
      "b'My name is St&#229;le'\n"
     ]
    }
   ],
   "source": [
    "txt = \"My name is Ståle\"\n",
    "print(txt.encode())\n",
    "print(txt.encode(encoding=\"ascii\",errors=\"backslashreplace\"))\n",
    "print(txt.encode(encoding=\"ascii\",errors=\"ignore\"))\n",
    "print(txt.encode(encoding=\"ascii\",errors=\"namereplace\"))\n",
    "print(txt.encode(encoding=\"ascii\",errors=\"replace\"))\n",
    "print(txt.encode(encoding=\"ascii\",errors=\"xmlcharrefreplace\"))"
   ]
  },
  {
   "cell_type": "code",
   "execution_count": 19,
   "metadata": {},
   "outputs": [
    {
     "name": "stdout",
     "output_type": "stream",
     "text": [
      "True\n"
     ]
    }
   ],
   "source": [
    "# endswith\n",
    "# returns true if the string ends with specified value.\n",
    "\n",
    "s = 'sagar' \n",
    "print(s.endswith('r'))"
   ]
  },
  {
   "attachments": {},
   "cell_type": "markdown",
   "metadata": {},
   "source": [
    "value\tRequired. The value to check if the string ends with\n",
    "start\tOptional. An Integer specifying at which position to start the search\n",
    "end\tOptional. An Integer specifying at which position to end the search"
   ]
  },
  {
   "cell_type": "code",
   "execution_count": 26,
   "metadata": {},
   "outputs": [
    {
     "name": "stdout",
     "output_type": "stream",
     "text": [
      "True\n",
      "18\n"
     ]
    }
   ],
   "source": [
    "txt = \"hello, welcome to my world\"\n",
    "print(txt.endswith(\"my world\",18, 27))\n",
    "print(txt.find(\"my\"))"
   ]
  },
  {
   "cell_type": "code",
   "execution_count": 2,
   "metadata": {},
   "outputs": [
    {
     "name": "stdout",
     "output_type": "stream",
     "text": [
      "s       a       g       a       r\n",
      "s a g a r\n",
      "s   a   g   a   r\n",
      "s     a     g     a     r\n",
      "s       a       g       a       r\n"
     ]
    }
   ],
   "source": [
    "# epandtabs\n",
    "# Sets the tab size of the string\n",
    "\n",
    "txt = 's\\ta\\tg\\ta\\tr'\n",
    "print(txt.expandtabs())\n",
    "print(txt.expandtabs(2))\n",
    "print(txt.expandtabs(4))\n",
    "print(txt.expandtabs(6))\n",
    "print(txt.expandtabs(8))\n"
   ]
  },
  {
   "cell_type": "code",
   "execution_count": 10,
   "metadata": {},
   "outputs": [
    {
     "name": "stdout",
     "output_type": "stream",
     "text": [
      "25\n",
      "6\n"
     ]
    }
   ],
   "source": [
    "# find\n",
    "# Searches the string for specified value and returned the position where it is found\n",
    "\n",
    "s = \"java is easy, python is hard\" \n",
    "print(s.find('a',10,26))\n",
    "print(s.index(\"s\"))"
   ]
  },
  {
   "attachments": {},
   "cell_type": "markdown",
   "metadata": {},
   "source": [
    "value\tRequired. The value to search for\n",
    "start\tOptional. Where to start the search. Default is 0\n",
    "end\tOptional. Where to end the search. Default is to the end of the string"
   ]
  },
  {
   "cell_type": "code",
   "execution_count": 15,
   "metadata": {},
   "outputs": [
    {
     "name": "stdout",
     "output_type": "stream",
     "text": [
      "My name is sagar i'm 29 years old\n",
      "My name is sagar i'm 29 years old\n",
      "My name is sagar i'm 29 years old\n"
     ]
    }
   ],
   "source": [
    "# format\n",
    "#  formats the specified value in string\n",
    "\n",
    "print(\"My name is {} i'm {} years old\".format(\"sagar\", 29))\n",
    "print(\"My name is {0} i'm {1} years old\".format(\"sagar\", 29))\n",
    "print(\"My name is {name} i'm {age} years old\".format(name = \"sagar\", age =29))"
   ]
  },
  {
   "cell_type": "code",
   "execution_count": 16,
   "metadata": {},
   "outputs": [
    {
     "name": "stdout",
     "output_type": "stream",
     "text": [
      "True\n"
     ]
    }
   ],
   "source": [
    "# isalnum\n",
    "# returns true if all the character in the string is alphanumeric\n",
    "\n",
    "text = \"sagar009\"\n",
    "print(text.isalnum())"
   ]
  },
  {
   "cell_type": "code",
   "execution_count": 19,
   "metadata": {},
   "outputs": [
    {
     "name": "stdout",
     "output_type": "stream",
     "text": [
      "False\n"
     ]
    }
   ],
   "source": [
    "# isalpha\n",
    "# returns true if all the character in the string is alphabate.\n",
    "\n",
    "text = 'sahara'\n",
    "print(text.isalpha())"
   ]
  },
  {
   "cell_type": "code",
   "execution_count": 1,
   "metadata": {},
   "outputs": [
    {
     "name": "stdout",
     "output_type": "stream",
     "text": [
      "True\n"
     ]
    }
   ],
   "source": [
    "# isdecimal\n",
    "# The isdecimal() method return True if the all character in the string is decimal\n",
    "\n",
    "s = \"12345\"\n",
    "print(s.isdecimal())"
   ]
  },
  {
   "cell_type": "code",
   "execution_count": 2,
   "metadata": {},
   "outputs": [
    {
     "name": "stdout",
     "output_type": "stream",
     "text": [
      "True\n"
     ]
    }
   ],
   "source": [
    "# isdigit \n",
    "# The isdigit() method returns True if the all character in the string is digit , otherwise false.\n",
    "\n",
    "s = '01002'\n",
    "print(s.isdigit())"
   ]
  },
  {
   "cell_type": "code",
   "execution_count": 7,
   "metadata": {},
   "outputs": [
    {
     "name": "stdout",
     "output_type": "stream",
     "text": [
      "False\n"
     ]
    }
   ],
   "source": [
    "# isprintable()\n",
    "# returns true if all character in string is printable\n",
    "\n",
    "txt = \"hello!ow.\\t are you\"\n",
    "print(txt.isprintable())\n"
   ]
  },
  {
   "cell_type": "code",
   "execution_count": 15,
   "metadata": {},
   "outputs": [
    {
     "name": "stdout",
     "output_type": "stream",
     "text": [
      "True\n"
     ]
    }
   ],
   "source": [
    "# isspace()\n",
    "# returns true if all character in the string is printable\n",
    "\n",
    "txt = '   '\n",
    "print(txt.isspace())\n"
   ]
  },
  {
   "cell_type": "code",
   "execution_count": 21,
   "metadata": {},
   "outputs": [
    {
     "name": "stdout",
     "output_type": "stream",
     "text": [
      "True\n"
     ]
    }
   ],
   "source": [
    "#  istitle\n",
    "# returns true if string is follows the rule of title\n",
    "\n",
    "txt = 'Sagar Is Good'\n",
    "print(txt.istitle())"
   ]
  },
  {
   "cell_type": "code",
   "execution_count": 25,
   "metadata": {},
   "outputs": [
    {
     "name": "stdout",
     "output_type": "stream",
     "text": [
      "True\n"
     ]
    }
   ],
   "source": [
    "# isupper\n",
    "# returns true if all character in string is upper\n",
    "\n",
    "txt = 'YES'\n",
    "print(txt.isupper())"
   ]
  },
  {
   "cell_type": "code",
   "execution_count": 3,
   "metadata": {},
   "outputs": [
    {
     "name": "stdout",
     "output_type": "stream",
     "text": [
      "ram is good boy\n",
      "nametestcountry\n"
     ]
    }
   ],
   "source": [
    "# join()\n",
    "# joins the element of an iterable to the end of the string\n",
    "\n",
    "txt = 'ram','is','good','boy'\n",
    "print(' '.join(txt))\n",
    "\n",
    "d = {'name':'sagar','country':'india'}\n",
    "print('test'.join(d))"
   ]
  },
  {
   "cell_type": "code",
   "execution_count": 4,
   "metadata": {},
   "outputs": [
    {
     "name": "stdout",
     "output_type": "stream",
     "text": [
      "banana                is my favourite fruit \n",
      "              banana  is my favourite fruit \n"
     ]
    }
   ],
   "source": [
    "# ljust \n",
    "# returns a left justified version of the string\n",
    "\n",
    "txt = 'banana'\n",
    "x = txt.ljust(20)\n",
    "print(x,\" is my favourite fruit \")\n",
    "\n",
    "# rjust \n",
    "# returns a right justified version of the string\n",
    "\n",
    "txt = 'banana'\n",
    "x = txt.rjust(20)\n",
    "print(x,\" is my favourite fruit \")\n"
   ]
  },
  {
   "cell_type": "code",
   "execution_count": 6,
   "metadata": {},
   "outputs": [
    {
     "name": "stdout",
     "output_type": "stream",
     "text": [
      "yes\n"
     ]
    }
   ],
   "source": [
    "# lower\n",
    "# converts strings into lower version\n",
    "\n",
    "txt = \"YES\"\n",
    "print(txt.lower())"
   ]
  },
  {
   "cell_type": "code",
   "execution_count": 9,
   "metadata": {},
   "outputs": [
    {
     "name": "stdout",
     "output_type": "stream",
     "text": [
      "in all fruits banana    is my favourite fruit\n",
      "in all fruits    banana is my favourite fruit\n"
     ]
    }
   ],
   "source": [
    "# lstrip\n",
    "# returns a left trim version of the string\n",
    "\n",
    "txt = \"   banana   \"\n",
    "print(\"in all fruits\",txt.lstrip(), \"is my favourite fruit\")\n",
    "\n",
    "# rstrip\n",
    "# returns a right trim version of the string\n",
    "\n",
    "txt = \"   banana   \"\n",
    "print(\"in all fruits\",txt.rstrip(), \"is my favourite fruit\")"
   ]
  },
  {
   "cell_type": "code",
   "execution_count": 20,
   "metadata": {},
   "outputs": [
    {
     "name": "stdout",
     "output_type": "stream",
     "text": [
      "nssswwwa?.....wwww\n"
     ]
    }
   ],
   "source": [
    "txt = 'nssswwwa?.....wwww.....'\n",
    "print(txt.rstrip('a?.'))"
   ]
  },
  {
   "cell_type": "code",
   "execution_count": 22,
   "metadata": {},
   "outputs": [
    {
     "name": "stdout",
     "output_type": "stream",
     "text": [
      "('i love ', 'banana', ' fruits')\n"
     ]
    }
   ],
   "source": [
    "# partition\n",
    "# Returns a tuple where string is parted into three parts\n",
    "\n",
    "txt = 'i love banana fruits'\n",
    "print(txt.partition('banana'))"
   ]
  },
  {
   "cell_type": "code",
   "execution_count": 23,
   "metadata": {},
   "outputs": [
    {
     "name": "stdout",
     "output_type": "stream",
     "text": [
      "python is easy\n"
     ]
    }
   ],
   "source": [
    "# replace \n",
    "# returns a string where specified value replace with specified value\n",
    "\n",
    "txt = \"python is hard\"\n",
    "print(txt.replace('hard','easy'))"
   ]
  },
  {
   "cell_type": "code",
   "execution_count": 25,
   "metadata": {},
   "outputs": [
    {
     "name": "stdout",
     "output_type": "stream",
     "text": [
      "14\n"
     ]
    }
   ],
   "source": [
    "# rfind\n",
    "# searches the string for specified value and returns last position where it is found\n",
    "\n",
    "txt = \"java is hard, python is easy\"\n",
    "x = txt.rfind('python')\n",
    "print(x)"
   ]
  },
  {
   "cell_type": "code",
   "execution_count": 26,
   "metadata": {},
   "outputs": [
    {
     "name": "stdout",
     "output_type": "stream",
     "text": [
      "('i love banana, ', 'banana', ' is best fruit of protine')\n"
     ]
    }
   ],
   "source": [
    "# rpartition\n",
    "# returns a tuple string parted into three parts\n",
    "\n",
    "txt = 'i love banana, banana is best fruit of protine'\n",
    "x = txt.rpartition('banana')\n",
    "print(x)"
   ]
  },
  {
   "cell_type": "code",
   "execution_count": 28,
   "metadata": {},
   "outputs": [
    {
     "name": "stdout",
     "output_type": "stream",
     "text": [
      "['java', 'is', 'easy,', 'python', 'is', 'hard']\n"
     ]
    }
   ],
   "source": [
    "# split()\n",
    "# split the string at specified sepreatots , and returned a list\n",
    "\n",
    "txt = 'java is easy, python is hard'\n",
    "x = txt.split(' ')\n",
    "print(x)"
   ]
  },
  {
   "cell_type": "code",
   "execution_count": 30,
   "metadata": {},
   "outputs": [
    {
     "name": "stdout",
     "output_type": "stream",
     "text": [
      "['apple', 'banana#chery#mango']\n"
     ]
    }
   ],
   "source": [
    "txt = 'apple#banana#chery#mango'\n",
    "x = txt.split('#',1)\n",
    "print(x)"
   ]
  },
  {
   "cell_type": "code",
   "execution_count": 34,
   "metadata": {},
   "outputs": [
    {
     "name": "stdout",
     "output_type": "stream",
     "text": [
      "['apple', 'banana', 'chery', 'mango']\n"
     ]
    }
   ],
   "source": [
    "# rsplit\n",
    "# split the string at specified seprator, and return list\n",
    "\n",
    "txt = 'apple#banana#chery#mango'\n",
    "x = txt.rsplit('#',3)\n",
    "print(x)"
   ]
  },
  {
   "cell_type": "code",
   "execution_count": 35,
   "metadata": {},
   "outputs": [
    {
     "name": "stdout",
     "output_type": "stream",
     "text": [
      "['thank you for the music', ' welcome to the jungle']\n"
     ]
    }
   ],
   "source": [
    "# splitlines\n",
    "# split the string at the line breaks and returned a list\n",
    "\n",
    "txt = 'thank you for the music\\n welcome to the jungle'\n",
    "x = txt.splitlines()\n",
    "print(x)"
   ]
  },
  {
   "cell_type": "code",
   "execution_count": 37,
   "metadata": {},
   "outputs": [
    {
     "name": "stdout",
     "output_type": "stream",
     "text": [
      "True\n"
     ]
    }
   ],
   "source": [
    "# startwith\n",
    "# returns true if string started with specific value\n",
    "\n",
    "txt = \"hi\"\n",
    "print(txt.startswith('h'))"
   ]
  },
  {
   "cell_type": "code",
   "execution_count": 38,
   "metadata": {},
   "outputs": [
    {
     "name": "stdout",
     "output_type": "stream",
     "text": [
      "hI sAGAR hOW aRE yOU\n"
     ]
    }
   ],
   "source": [
    "# swapcase\n",
    "# swapcase , lowercase becomes upperase and vice versa\n",
    "\n",
    "txt = \"Hi Sagar How Are You\"\n",
    "print(txt.swapcase())"
   ]
  },
  {
   "cell_type": "code",
   "execution_count": 40,
   "metadata": {},
   "outputs": [
    {
     "name": "stdout",
     "output_type": "stream",
     "text": [
      "Hi Sagar How Are You\n"
     ]
    }
   ],
   "source": [
    "# title()\t\n",
    "# Converts the first character of each word to upper case\n",
    "\n",
    "txt = \"hi sagar how are you\"\n",
    "print(txt.title())"
   ]
  },
  {
   "cell_type": "code",
   "execution_count": 41,
   "metadata": {},
   "outputs": [
    {
     "name": "stdout",
     "output_type": "stream",
     "text": [
      "HI SAGAR HOW ARE YOU\n"
     ]
    }
   ],
   "source": [
    "# upper()\t\n",
    "# Converts a string into upper case\n",
    "txt = \"hi sagar how are you\"\n",
    "print(txt.upper())"
   ]
  },
  {
   "cell_type": "code",
   "execution_count": 45,
   "metadata": {},
   "outputs": [
    {
     "name": "stdout",
     "output_type": "stream",
     "text": [
      "00000000hi\n",
      "welcome to the jungle\n",
      "000010.000\n"
     ]
    }
   ],
   "source": [
    "# zfill\n",
    "# fill the string at the specified number of 0 values at the beginning\n",
    "\n",
    "x = 'hi'\n",
    "y = 'welcome to the jungle'\n",
    "z = '10.000'\n",
    "\n",
    "print(x.zfill(10))\n",
    "print(y.zfill(10))\n",
    "print(z.zfill(10))"
   ]
  },
  {
   "cell_type": "code",
   "execution_count": 57,
   "metadata": {},
   "outputs": [
    {
     "name": "stdout",
     "output_type": "stream",
     "text": [
      "ram\n"
     ]
    }
   ],
   "source": [
    "print('ram**'.strip('*'))\n"
   ]
  },
  {
   "cell_type": "code",
   "execution_count": 60,
   "metadata": {},
   "outputs": [
    {
     "name": "stdout",
     "output_type": "stream",
     "text": [
      "three\n"
     ]
    }
   ],
   "source": [
    "# removesuffix\n",
    "\n",
    "txt = 'three:four'\n",
    "print(txt.removesuffix(':four'))"
   ]
  },
  {
   "cell_type": "code",
   "execution_count": 63,
   "metadata": {},
   "outputs": [
    {
     "name": "stdout",
     "output_type": "stream",
     "text": [
      "four\n"
     ]
    }
   ],
   "source": [
    "# removepreffix\n",
    "\n",
    "txt = 'three:four'\n",
    "print(txt.removeprefix('three:'))"
   ]
  }
 ],
 "metadata": {
  "kernelspec": {
   "display_name": "Python 3",
   "language": "python",
   "name": "python3"
  },
  "language_info": {
   "codemirror_mode": {
    "name": "ipython",
    "version": 3
   },
   "file_extension": ".py",
   "mimetype": "text/x-python",
   "name": "python",
   "nbconvert_exporter": "python",
   "pygments_lexer": "ipython3",
   "version": "3.11.2"
  },
  "orig_nbformat": 4,
  "vscode": {
   "interpreter": {
    "hash": "5238573367df39f7286bb46f9ff5f08f63a01a80960060ce41e3c79b190280fa"
   }
  }
 },
 "nbformat": 4,
 "nbformat_minor": 2
}
