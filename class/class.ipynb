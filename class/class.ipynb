{
 "cells": [
  {
   "cell_type": "code",
   "execution_count": 10,
   "metadata": {},
   "outputs": [],
   "source": [
    "class my_class:\n",
    "    def display(self):\n",
    "        print(\"Hello my name is sagar\")\n",
    "mc=my_class()        "
   ]
  },
  {
   "cell_type": "code",
   "execution_count": 11,
   "metadata": {},
   "outputs": [
    {
     "name": "stdout",
     "output_type": "stream",
     "text": [
      "Hello my name is sagar\n"
     ]
    }
   ],
   "source": [
    "mc.display()"
   ]
  },
  {
   "cell_type": "code",
   "execution_count": 9,
   "metadata": {},
   "outputs": [],
   "source": [
    "class emp:\n",
    "    pass\n",
    "e1 = emp()"
   ]
  },
  {
   "cell_type": "code",
   "execution_count": 12,
   "metadata": {},
   "outputs": [
    {
     "name": "stdout",
     "output_type": "stream",
     "text": [
      "hello Sagar\n"
     ]
    }
   ],
   "source": [
    "class employee:\n",
    "    \n",
    "    def __init__(self):\n",
    "        print(\"hello Sagar\")\n",
    "\n",
    "mc = employee()"
   ]
  },
  {
   "cell_type": "code",
   "execution_count": 17,
   "metadata": {},
   "outputs": [
    {
     "name": "stdout",
     "output_type": "stream",
     "text": [
      "age : 19 salary : 90000\n"
     ]
    }
   ],
   "source": [
    "class emp:\n",
    "    def __init__(self):\n",
    "        self.age = 19\n",
    "        self.salary = 90000\n",
    "        \n",
    "mc = emp()\n",
    "print(f\"age : {mc.age}\",f\"salary : {mc.salary}\")"
   ]
  },
  {
   "cell_type": "code",
   "execution_count": null,
   "metadata": {},
   "outputs": [],
   "source": [
    "class emp:\n",
    "    def __init__(self):\n",
    "        self.age = 19\n",
    "        self.salary = 90000\n",
    "        \n",
    "mc = emp()\n",
    "print(f\"age : {mc.age}\",f\"salary : {mc.salary}\")"
   ]
  },
  {
   "cell_type": "code",
   "execution_count": 20,
   "metadata": {},
   "outputs": [
    {
     "name": "stdout",
     "output_type": "stream",
     "text": [
      "age : 50 salary : 5000000000\n"
     ]
    }
   ],
   "source": [
    "class emp:\n",
    "    def __init__(self,age,sal):\n",
    "        self.age = age\n",
    "        self.salary = sal\n",
    "        \n",
    "mc = emp(27,100000)\n",
    "mc.salary = 5000000000\n",
    "mc.age = 50\n",
    "print(f\"age : {mc.age}\",f\"salary : {mc.salary}\")"
   ]
  },
  {
   "cell_type": "code",
   "execution_count": 21,
   "metadata": {},
   "outputs": [],
   "source": [
    "class A:\n",
    "    def m1(self):\n",
    "        print(\"this is m1 method !\")\n",
    "    def m2(self):\n",
    "        print(\"this is m2 method !\")"
   ]
  },
  {
   "cell_type": "code",
   "execution_count": 22,
   "metadata": {},
   "outputs": [],
   "source": [
    "class B(A):\n",
    "    def m3(self):\n",
    "        print(\"this is m3 method !\")\n",
    "    def m4(self):\n",
    "        print(\"this is m4 method !\")"
   ]
  },
  {
   "cell_type": "code",
   "execution_count": 25,
   "metadata": {},
   "outputs": [
    {
     "name": "stdout",
     "output_type": "stream",
     "text": [
      "this is m1 method !\n",
      "this is m2 method !\n"
     ]
    }
   ],
   "source": [
    "mc = A()\n",
    "mc.m1()\n",
    "mc.m2()\n",
    "# mc.m3()"
   ]
  },
  {
   "cell_type": "code",
   "execution_count": 26,
   "metadata": {},
   "outputs": [
    {
     "name": "stdout",
     "output_type": "stream",
     "text": [
      "this is m1 method !\n",
      "this is m2 method !\n",
      "this is m3 method !\n",
      "this is m4 method !\n"
     ]
    }
   ],
   "source": [
    "mc=B()\n",
    "mc.m1()\n",
    "mc.m2()\n",
    "mc.m3()\n",
    "mc.m4()"
   ]
  },
  {
   "cell_type": "code",
   "execution_count": 33,
   "metadata": {},
   "outputs": [],
   "source": [
    "class A:\n",
    "    def m1(self):\n",
    "        print(\"this is m1 method !\")\n",
    "    def m2(self):\n",
    "        print(\"this is m2 method !\")\n",
    "class B(A):\n",
    "    def m3(self):\n",
    "        print(\"this is m3 method !\")\n",
    "    def m4(self):\n",
    "        print(\"this is m4 method !\")\n",
    "class C(B):\n",
    "    def m5(self):\n",
    "        print(\"this is m5 method !\")\n",
    "    def m6(self):\n",
    "        print(\"this is m6 method !\")"
   ]
  },
  {
   "cell_type": "code",
   "execution_count": 34,
   "metadata": {},
   "outputs": [
    {
     "name": "stdout",
     "output_type": "stream",
     "text": [
      "this is m1 method !\n",
      "this is m2 method !\n",
      "start b class\n",
      "this is m1 method !\n",
      "this is m2 method !\n",
      "this is m3 method !\n",
      "this is m4 method !\n",
      "start c class\n",
      "this is m1 method !\n",
      "this is m2 method !\n",
      "this is m3 method !\n",
      "this is m4 method !\n",
      "this is m5 method !\n",
      "this is m6 method !\n"
     ]
    }
   ],
   "source": [
    "mc = A()\n",
    "mc.m1()\n",
    "mc.m2()\n",
    "print(\"start b class\")\n",
    "mc=B()\n",
    "mc.m1()\n",
    "mc.m2()\n",
    "mc.m3()\n",
    "mc.m4()\n",
    "\n",
    "print(\"start c class\")\n",
    "mc=C()\n",
    "mc.m1()\n",
    "mc.m2()\n",
    "mc.m3()\n",
    "mc.m4()\n",
    "mc.m5()\n",
    "mc.m6()"
   ]
  },
  {
   "cell_type": "code",
   "execution_count": 35,
   "metadata": {},
   "outputs": [],
   "source": [
    "class A:\n",
    "    def m1(self):\n",
    "        print(\"this is m1 method !\")\n",
    "    # def m2(self):\n",
    "    #     print(\"this is m2 method !\")\n",
    "class B(A):\n",
    "    def m3(self):\n",
    "        print(\"this is m3 method !\")\n",
    "    # def m4(self):\n",
    "    #     print(\"this is m4 method !\")\n",
    "class C(A):\n",
    "    def m5(self):\n",
    "        print(\"this is m5 method !\")\n",
    "    # def m6(self):\n",
    "    #     print(\"this is m6 method !\")"
   ]
  },
  {
   "cell_type": "code",
   "execution_count": 36,
   "metadata": {},
   "outputs": [
    {
     "name": "stdout",
     "output_type": "stream",
     "text": [
      "this is m1 method !\n",
      "start b class\n",
      "this is m1 method !\n",
      "this is m3 method !\n",
      "start c class\n",
      "this is m1 method !\n",
      "this is m5 method !\n"
     ]
    }
   ],
   "source": [
    "mc = A()\n",
    "mc.m1()\n",
    "print(\"start b class\")\n",
    "mc=B()\n",
    "mc.m1()\n",
    "mc.m3()\n",
    "print(\"start c class\")\n",
    "mc=C()\n",
    "mc.m1()\n",
    "mc.m5()"
   ]
  },
  {
   "cell_type": "code",
   "execution_count": 38,
   "metadata": {},
   "outputs": [],
   "source": [
    "class A:\n",
    "    def m1(self):\n",
    "        print(\"this is m1 method !\")\n",
    "    # def m2(self):\n",
    "    #     print(\"this is m2 method !\")\n",
    "class B:\n",
    "    def m3(self):\n",
    "        print(\"this is m3 method !\")\n",
    "    # def m4(self):\n",
    "    #     print(\"this is m4 method !\")\n",
    "class C(A,B):\n",
    "    def m5(self):\n",
    "        print(\"this is m5 method !\")\n",
    "    # def m6(self):\n",
    "    #     print(\"this is m6 method !\")"
   ]
  },
  {
   "cell_type": "code",
   "execution_count": 39,
   "metadata": {},
   "outputs": [
    {
     "name": "stdout",
     "output_type": "stream",
     "text": [
      "this is m1 method !\n",
      "start b class\n",
      "this is m3 method !\n",
      "start c class\n",
      "this is m1 method !\n",
      "this is m3 method !\n",
      "this is m5 method !\n"
     ]
    }
   ],
   "source": [
    "mc = A()\n",
    "mc.m1()\n",
    "print(\"start b class\")\n",
    "mc=B()\n",
    "mc.m3()\n",
    "print(\"start c class\")\n",
    "mc=C()\n",
    "mc.m1()\n",
    "mc.m3()\n",
    "mc.m5()"
   ]
  }
 ],
 "metadata": {
  "kernelspec": {
   "display_name": "Python 3",
   "language": "python",
   "name": "python3"
  },
  "language_info": {
   "codemirror_mode": {
    "name": "ipython",
    "version": 3
   },
   "file_extension": ".py",
   "mimetype": "text/x-python",
   "name": "python",
   "nbconvert_exporter": "python",
   "pygments_lexer": "ipython3",
   "version": "3.11.2"
  },
  "orig_nbformat": 4
 },
 "nbformat": 4,
 "nbformat_minor": 2
}
